{
  "nbformat": 4,
  "nbformat_minor": 0,
  "metadata": {
    "colab": {
      "provenance": [],
      "authorship_tag": "ABX9TyPQUkbmrFXzmcF7L+udomvo",
      "include_colab_link": true
    },
    "kernelspec": {
      "name": "python3",
      "display_name": "Python 3"
    },
    "language_info": {
      "name": "python"
    }
  },
  "cells": [
    {
      "cell_type": "markdown",
      "metadata": {
        "id": "view-in-github",
        "colab_type": "text"
      },
      "source": [
        "<a href=\"https://colab.research.google.com/github/purnaa-l/NLP-Projects/blob/main/classification/Sentiment_Analysis.ipynb\" target=\"_parent\"><img src=\"https://colab.research.google.com/assets/colab-badge.svg\" alt=\"Open In Colab\"/></a>"
      ]
    },
    {
      "cell_type": "code",
      "execution_count": 6,
      "metadata": {
        "id": "XUxhIj781omR"
      },
      "outputs": [],
      "source": [
        "import pandas as pd\n",
        "import numpy as np\n",
        "import matplotlib.pyplot as plt\n",
        "import seaborn as sns"
      ]
    },
    {
      "cell_type": "code",
      "source": [
        "import pandas as pd\n",
        "data = pd.read_csv(\"train.csv\", encoding='latin1')\n"
      ],
      "metadata": {
        "id": "g99CnP3v10Eu"
      },
      "execution_count": 7,
      "outputs": []
    },
    {
      "cell_type": "code",
      "source": [
        "data = data[['text', 'sentiment']]\n",
        "\n",
        "sentiment_mapping = {\n",
        "    'positive': 1,\n",
        "    'negative': -1,\n",
        "    'neutral': 0\n",
        "}\n",
        "data['sentiment'] = data['sentiment'].map(sentiment_mapping)\n",
        "\n",
        "print(data.head())"
      ],
      "metadata": {
        "colab": {
          "base_uri": "https://localhost:8080/"
        },
        "id": "zzgXlg7t10HS",
        "outputId": "085bd100-6da9-4400-d188-0f7bbfb1a514"
      },
      "execution_count": 8,
      "outputs": [
        {
          "output_type": "stream",
          "name": "stdout",
          "text": [
            "                                                text  sentiment\n",
            "0                I`d have responded, if I were going          0\n",
            "1      Sooo SAD I will miss you here in San Diego!!!         -1\n",
            "2                          my boss is bullying me...         -1\n",
            "3                     what interview! leave me alone         -1\n",
            "4   Sons of ****, why couldn`t they put them on t...         -1\n"
          ]
        }
      ]
    },
    {
      "cell_type": "code",
      "source": [
        "data.shape"
      ],
      "metadata": {
        "colab": {
          "base_uri": "https://localhost:8080/"
        },
        "id": "M9SfhMVE10Jq",
        "outputId": "5e6700a7-5793-4fe8-d07e-2bb96bbb499c"
      },
      "execution_count": 9,
      "outputs": [
        {
          "output_type": "execute_result",
          "data": {
            "text/plain": [
              "(27481, 2)"
            ]
          },
          "metadata": {},
          "execution_count": 9
        }
      ]
    },
    {
      "cell_type": "code",
      "source": [
        "data['sentiment'].value_counts()\n",
        "data['sentiment'].value_counts().plot(kind='bar')\n"
      ],
      "metadata": {
        "colab": {
          "base_uri": "https://localhost:8080/",
          "height": 466
        },
        "id": "CYil3Wq_10L-",
        "outputId": "241963a2-37e2-4dcc-a1b8-82b4e0e5576a"
      },
      "execution_count": 10,
      "outputs": [
        {
          "output_type": "execute_result",
          "data": {
            "text/plain": [
              "<Axes: xlabel='sentiment'>"
            ]
          },
          "metadata": {},
          "execution_count": 10
        },
        {
          "output_type": "display_data",
          "data": {
            "text/plain": [
              "<Figure size 640x480 with 1 Axes>"
            ],
            "image/png": "[encoded data removed]"
          },
          "metadata": {}
        }
      ]
    },
    {
      "cell_type": "code",
      "source": [
        "data['sentiment'].value_counts().plot(kind='pie')\n"
      ],
      "metadata": {
        "colab": {
          "base_uri": "https://localhost:8080/",
          "height": 423
        },
        "id": "_I0w6Y-F10Ok",
        "outputId": "b456e46f-203c-4df6-ea4a-173b058e040b"
      },
      "execution_count": 11,
      "outputs": [
        {
          "output_type": "execute_result",
          "data": {
            "text/plain": [
              "<Axes: ylabel='count'>"
            ]
          },
          "metadata": {},
          "execution_count": 11
        },
        {
          "output_type": "display_data",
          "data": {
            "text/plain": [
              "<Figure size 640x480 with 1 Axes>"
            ],
            "image/png": "[encoded data removed]"
          },
          "metadata": {}
        }
      ]
    },
    {
      "cell_type": "code",
      "source": [
        "data['text'][999]"
      ],
      "metadata": {
        "colab": {
          "base_uri": "https://localhost:8080/",
          "height": 53
        },
        "id": "_iMrzMgP10Q6",
        "outputId": "1805ddb5-7601-4bf3-a327-000c73d64332"
      },
      "execution_count": 12,
      "outputs": [
        {
          "output_type": "execute_result",
          "data": {
            "text/plain": [
              "' I`ve been unlocked for decades now...just not lucky, never have been.  Gottta make my own luck and that involves $$$$$'"
            ],
            "application/vnd.google.colaboratory.intrinsic+json": {
              "type": "string"
            }
          },
          "metadata": {},
          "execution_count": 12
        }
      ]
    },
    {
      "cell_type": "code",
      "source": [
        "import re\n",
        "import nltk\n",
        "from nltk.stem.porter import PorterStemmer\n",
        "from nltk.corpus import stopwords\n",
        "import nltk\n",
        "\n",
        "# Download stopwords\n",
        "nltk.download('stopwords')\n",
        "\n",
        "from nltk.corpus import stopwords\n",
        "stopwords_set = set(stopwords.words('english'))\n"
      ],
      "metadata": {
        "colab": {
          "base_uri": "https://localhost:8080/"
        },
        "id": "GZ9-yuas10Ti",
        "outputId": "8fa567bb-0037-4c86-cfce-f348fdd953e5"
      },
      "execution_count": 13,
      "outputs": [
        {
          "output_type": "stream",
          "name": "stderr",
          "text": [
            "[nltk_data] Downloading package stopwords to /root/nltk_data...\n",
            "[nltk_data]   Package stopwords is already up-to-date!\n"
          ]
        }
      ]
    },
    {
      "cell_type": "code",
      "source": [
        "import re\n",
        "from nltk.corpus import stopwords\n",
        "\n",
        "stopwords_set = set(stopwords.words('english'))\n",
        "\n",
        "def preprocessing(text):\n",
        "    # Remove HTML tags\n",
        "    text = re.sub(r'<[^>]+>', '', text)\n",
        "\n",
        "    # Lowercase the text\n",
        "    text = text.lower()\n",
        "\n",
        "    # Remove URLs\n",
        "    text = re.sub(r'http\\S+|www.\\S+', '', text)\n",
        "\n",
        "    # Remove punctuation and numbers\n",
        "    text = re.sub(r'[^a-z\\s]', '', text)\n",
        "\n",
        "    # Remove extra whitespace\n",
        "    text = re.sub(r'\\s+', ' ', text).strip()\n",
        "\n",
        "    # Remove stopwords\n",
        "    text = ' '.join(word for word in text.split() if word not in stopwords_set)\n",
        "\n",
        "    return text\n",
        "\n",
        "# Example\n",
        "sample_text = \"<p>This is an example tweet! Check out http://example.com</p>\"\n",
        "print(preprocessing(sample_text))\n"
      ],
      "metadata": {
        "colab": {
          "base_uri": "https://localhost:8080/"
        },
        "id": "WJEdGICw10V6",
        "outputId": "fe7b529f-922e-406a-8b32-e9e1cd73d5d0"
      },
      "execution_count": 14,
      "outputs": [
        {
          "output_type": "stream",
          "name": "stdout",
          "text": [
            "example tweet check\n"
          ]
        }
      ]
    },
    {
      "cell_type": "code",
      "source": [
        "data['text'] = data['text'].apply(lambda x: preprocessing(x) if isinstance(x, str) else '')\n"
      ],
      "metadata": {
        "id": "_-irA0Xy10Ye"
      },
      "execution_count": 15,
      "outputs": []
    },
    {
      "cell_type": "code",
      "source": [
        "data['text']"
      ],
      "metadata": {
        "colab": {
          "base_uri": "https://localhost:8080/",
          "height": 458
        },
        "id": "-lt-Fe654pbY",
        "outputId": "a52624b4-bd93-4aa9-90f3-56e4f832deac"
      },
      "execution_count": 16,
      "outputs": [
        {
          "output_type": "execute_result",
          "data": {
            "text/plain": [
              "0                                       id responded going\n",
              "1                                  sooo sad miss san diego\n",
              "2                                            boss bullying\n",
              "3                                    interview leave alone\n",
              "4                 sons couldnt put releases already bought\n",
              "                               ...                        \n",
              "27476    wish could come see u denver husband lost job ...\n",
              "27477    ive wondered rake client made clear net dont f...\n",
              "27478    yay good enjoy break probably need hectic week...\n",
              "27479                                                worth\n",
              "27480                   flirting going atg smiles yay hugs\n",
              "Name: text, Length: 27481, dtype: object"
            ],
            "text/html": [
              "<div>\n",
              "<style scoped>\n",
              "    .dataframe tbody tr th:only-of-type {\n",
              "        vertical-align: middle;\n",
              "    }\n",
              "\n",
              "    .dataframe tbody tr th {\n",
              "        vertical-align: top;\n",
              "    }\n",
              "\n",
              "    .dataframe thead th {\n",
              "        text-align: right;\n",
              "    }\n",
              "</style>\n",
              "<table border=\"1\" class=\"dataframe\">\n",
              "  <thead>\n",
              "    <tr style=\"text-align: right;\">\n",
              "      <th></th>\n",
              "      <th>text</th>\n",
              "    </tr>\n",
              "  </thead>\n",
              "  <tbody>\n",
              "    <tr>\n",
              "      <th>0</th>\n",
              "      <td>id responded going</td>\n",
              "    </tr>\n",
              "    <tr>\n",
              "      <th>1</th>\n",
              "      <td>sooo sad miss san diego</td>\n",
              "    </tr>\n",
              "    <tr>\n",
              "      <th>2</th>\n",
              "      <td>boss bullying</td>\n",
              "    </tr>\n",
              "    <tr>\n",
              "      <th>3</th>\n",
              "      <td>interview leave alone</td>\n",
              "    </tr>\n",
              "    <tr>\n",
              "      <th>4</th>\n",
              "      <td>sons couldnt put releases already bought</td>\n",
              "    </tr>\n",
              "    <tr>\n",
              "      <th>...</th>\n",
              "      <td>...</td>\n",
              "    </tr>\n",
              "    <tr>\n",
              "      <th>27476</th>\n",
              "      <td>wish could come see u denver husband lost job ...</td>\n",
              "    </tr>\n",
              "    <tr>\n",
              "      <th>27477</th>\n",
              "      <td>ive wondered rake client made clear net dont f...</td>\n",
              "    </tr>\n",
              "    <tr>\n",
              "      <th>27478</th>\n",
              "      <td>yay good enjoy break probably need hectic week...</td>\n",
              "    </tr>\n",
              "    <tr>\n",
              "      <th>27479</th>\n",
              "      <td>worth</td>\n",
              "    </tr>\n",
              "    <tr>\n",
              "      <th>27480</th>\n",
              "      <td>flirting going atg smiles yay hugs</td>\n",
              "    </tr>\n",
              "  </tbody>\n",
              "</table>\n",
              "<p>27481 rows × 1 columns</p>\n",
              "</div><br><label><b>dtype:</b> object</label>"
            ]
          },
          "metadata": {},
          "execution_count": 16
        }
      ]
    },
    {
      "cell_type": "code",
      "source": [
        "positive=data[data['sentiment']==1]\n",
        "positive=positive['text']\n",
        "negative=data[data['sentiment']==-1]\n",
        "negative=negative['text']\n",
        "neutral=data[data['sentiment']==0]\n",
        "neutral=neutral['text']\n",
        "from collections import Counter\n",
        "\n",
        "pwords=' '.join(positive).split()\n",
        "pcount=Counter(pwords)\n",
        "pwords_common=pcount.most_common(10)\n",
        "print(pwords_common)\n"
      ],
      "metadata": {
        "colab": {
          "base_uri": "https://localhost:8080/"
        },
        "id": "hfdmfAtR4pd-",
        "outputId": "037ec588-342f-4113-a829-ab28f9a917b9"
      },
      "execution_count": 17,
      "outputs": [
        {
          "output_type": "stream",
          "name": "stdout",
          "text": [
            "[('day', 1234), ('good', 1046), ('love', 875), ('happy', 840), ('im', 746), ('mothers', 629), ('thanks', 553), ('great', 478), ('like', 413), ('hope', 396)]\n"
          ]
        }
      ]
    },
    {
      "cell_type": "code",
      "source": [
        "nwords=' '.join(negative).split()\n",
        "ncount=Counter(nwords)\n",
        "nwords_common=ncount.most_common(10)\n",
        "print(nwords_common)\n"
      ],
      "metadata": {
        "colab": {
          "base_uri": "https://localhost:8080/"
        },
        "id": "f_rrUzb74pgW",
        "outputId": "dfa34817-b4b4-4da1-93eb-825d37eae5d9"
      },
      "execution_count": 18,
      "outputs": [
        {
          "output_type": "stream",
          "name": "stdout",
          "text": [
            "[('im', 1234), ('like', 476), ('dont', 469), ('cant', 466), ('get', 436), ('miss', 422), ('go', 401), ('sad', 389), ('work', 386), ('sorry', 340)]\n"
          ]
        }
      ]
    },
    {
      "cell_type": "code",
      "source": [
        "nnwords=' '.join(neutral).split()\n",
        "nncount=Counter(nnwords)\n",
        "nnwords_common=nncount.most_common(10)\n",
        "print(nnwords_common)\n"
      ],
      "metadata": {
        "colab": {
          "base_uri": "https://localhost:8080/"
        },
        "id": "6jAmgXSt4pi6",
        "outputId": "edfd0207-0b65-443c-a403-802abda624b0"
      },
      "execution_count": 19,
      "outputs": [
        {
          "output_type": "stream",
          "name": "stdout",
          "text": [
            "[('im', 1072), ('get', 624), ('go', 576), ('day', 522), ('dont', 493), ('going', 479), ('work', 477), ('like', 457), ('lol', 455), ('got', 454)]\n"
          ]
        }
      ]
    },
    {
      "cell_type": "code",
      "source": [
        "from sklearn.model_selection import train_test_split\n",
        "\n",
        "X = data['text']        # Features (cleaned text)\n",
        "y = data['sentiment']   # Labels (encoded sentiment)\n",
        "\n",
        "# Split into 80% train, 20% test\n",
        "X_train, X_test, y_train, y_test = train_test_split(\n",
        "    X, y, test_size=0.2, random_state=42, stratify=y\n",
        ")\n"
      ],
      "metadata": {
        "id": "lTqxVf8-4plh"
      },
      "execution_count": 20,
      "outputs": []
    },
    {
      "cell_type": "code",
      "source": [
        "from sklearn.feature_extraction.text import TfidfVectorizer\n",
        "\n",
        "# TF-IDF vectorizer\n",
        "vectorizer = TfidfVectorizer(max_features=5000, ngram_range=(1,2))\n",
        "X_train_vec = vectorizer.fit_transform(X_train)\n",
        "X_test_vec = vectorizer.transform(X_test)\n"
      ],
      "metadata": {
        "id": "sI_dLnIR5p-M"
      },
      "execution_count": 21,
      "outputs": []
    },
    {
      "cell_type": "code",
      "source": [
        "import pandas as pd\n",
        "from sklearn.model_selection import train_test_split\n",
        "from sklearn.feature_extraction.text import TfidfVectorizer\n",
        "from sklearn.metrics import accuracy_score, classification_report\n",
        "from sklearn.linear_model import LogisticRegression\n",
        "from sklearn.ensemble import RandomForestClassifier, GradientBoostingClassifier\n",
        "from sklearn.svm import SVC\n",
        "from sklearn.naive_bayes import MultinomialNB\n",
        "\n",
        "# Assume data is already preprocessed with 'text' and 'sentiment'\n",
        "X = data['text']\n",
        "y = data['sentiment']\n",
        "\n",
        "# Train/test split\n",
        "X_train, X_test, y_train, y_test = train_test_split(\n",
        "    X, y, test_size=0.2, random_state=42, stratify=y\n",
        ")\n",
        "\n",
        "# Vectorization\n",
        "vectorizer = TfidfVectorizer(max_features=5000, ngram_range=(1,2))\n",
        "X_train_vec = vectorizer.fit_transform(X_train)\n",
        "X_test_vec = vectorizer.transform(X_test)\n",
        "\n",
        "# List of models\n",
        "models = {\n",
        "    \"Logistic Regression\": LogisticRegression(max_iter=500),\n",
        "    \"Random Forest\": RandomForestClassifier(n_estimators=100, random_state=42),\n",
        "    \"Gradient Boosting\": GradientBoostingClassifier(n_estimators=100, random_state=42),\n",
        "    \"SVM\": SVC(),\n",
        "    \"Naive Bayes\": MultinomialNB()\n",
        "}\n",
        "\n",
        "# Train each model and print accuracy & classification report\n",
        "for name, model in models.items():\n",
        "    model.fit(X_train_vec, y_train)\n",
        "    y_pred = model.predict(X_test_vec)\n",
        "    print(f\"--- {name} ---\")\n",
        "    print(\"Accuracy:\", accuracy_score(y_test, y_pred))\n",
        "    print(classification_report(y_test, y_pred))\n",
        "    print(\"\\n\")\n"
      ],
      "metadata": {
        "colab": {
          "base_uri": "https://localhost:8080/"
        },
        "id": "7y8K-Kuh5qAt",
        "outputId": "432245f2-2e6c-46be-a57e-23b8620d6902"
      },
      "execution_count": 23,
      "outputs": [
        {
          "output_type": "stream",
          "name": "stdout",
          "text": [
            "--- Logistic Regression ---\n",
            "Accuracy: 0.6894669819901764\n",
            "              precision    recall  f1-score   support\n",
            "\n",
            "          -1       0.73      0.60      0.66      1556\n",
            "           0       0.62      0.76      0.68      2224\n",
            "           1       0.78      0.68      0.73      1717\n",
            "\n",
            "    accuracy                           0.69      5497\n",
            "   macro avg       0.71      0.68      0.69      5497\n",
            "weighted avg       0.70      0.69      0.69      5497\n",
            "\n",
            "\n",
            "\n",
            "--- Random Forest ---\n",
            "Accuracy: 0.7000181917409496\n",
            "              precision    recall  f1-score   support\n",
            "\n",
            "          -1       0.73      0.61      0.66      1556\n",
            "           0       0.65      0.73      0.69      2224\n",
            "           1       0.75      0.74      0.75      1717\n",
            "\n",
            "    accuracy                           0.70      5497\n",
            "   macro avg       0.71      0.69      0.70      5497\n",
            "weighted avg       0.70      0.70      0.70      5497\n",
            "\n",
            "\n",
            "\n",
            "--- Gradient Boosting ---\n",
            "Accuracy: 0.6481717300345643\n",
            "              precision    recall  f1-score   support\n",
            "\n",
            "          -1       0.81      0.40      0.54      1556\n",
            "           0       0.56      0.86      0.68      2224\n",
            "           1       0.79      0.60      0.68      1717\n",
            "\n",
            "    accuracy                           0.65      5497\n",
            "   macro avg       0.72      0.62      0.63      5497\n",
            "weighted avg       0.70      0.65      0.64      5497\n",
            "\n",
            "\n",
            "\n",
            "--- SVM ---\n",
            "Accuracy: 0.6889212297616882\n",
            "              precision    recall  f1-score   support\n",
            "\n",
            "          -1       0.76      0.57      0.65      1556\n",
            "           0       0.61      0.80      0.69      2224\n",
            "           1       0.80      0.66      0.72      1717\n",
            "\n",
            "    accuracy                           0.69      5497\n",
            "   macro avg       0.72      0.67      0.69      5497\n",
            "weighted avg       0.71      0.69      0.69      5497\n",
            "\n",
            "\n",
            "\n",
            "--- Naive Bayes ---\n",
            "Accuracy: 0.6436237947971621\n",
            "              precision    recall  f1-score   support\n",
            "\n",
            "          -1       0.74      0.50      0.60      1556\n",
            "           0       0.56      0.78      0.65      2224\n",
            "           1       0.76      0.59      0.67      1717\n",
            "\n",
            "    accuracy                           0.64      5497\n",
            "   macro avg       0.69      0.63      0.64      5497\n",
            "weighted avg       0.67      0.64      0.64      5497\n",
            "\n",
            "\n",
            "\n"
          ]
        }
      ]
    },
    {
      "cell_type": "markdown",
      "source": [
        "Why vectorisation?\n",
        "\n",
        "\n",
        "Machines don’t understand text as we do. They only understand numbers. So we need to convert text into numerical representations that models can work with. This process is called\n",
        "vectorization."
      ],
      "metadata": {
        "id": "-K_GBSzq8d0i"
      }
    },
    {
      "cell_type": "markdown",
      "source": [
        "1️⃣ How TF-IDF is calculated/detected\n",
        "\n",
        "TF-IDF stands for Term Frequency – Inverse Document Frequency. It measures how important a word is in a document relative to the whole corpus.\n",
        "\n",
        "It has two parts:\n",
        "\n",
        "a) Term Frequency (TF)\n",
        "\n",
        "How often a word appears in a document:\n",
        "\n",
        "𝑇\n",
        "𝐹\n",
        "(\n",
        "𝑤\n",
        "𝑜\n",
        "𝑟\n",
        "𝑑\n",
        ")\n",
        "=\n",
        "Number of times the word appears in document\n",
        "Total words in the document\n",
        "TF(word)=\n",
        "Total words in the document\n",
        "Number of times the word appears in document\n",
        "\t​\n",
        "\n",
        "\n",
        "Example:\n",
        "Document: \"I love love this movie\"\n",
        "\n",
        "Total words = 4\n",
        "\n",
        "TF(\"love\") = 2 / 4 = 0.5\n",
        "\n",
        "TF(\"movie\") = 1 / 4 = 0.25\n",
        "\n",
        "b) Inverse Document Frequency (IDF)\n",
        "\n",
        "How unique the word is across all documents:\n",
        "\n",
        "𝐼\n",
        "𝐷\n",
        "𝐹\n",
        "(\n",
        "𝑤\n",
        "𝑜\n",
        "𝑟\n",
        "𝑑\n",
        ")\n",
        "=\n",
        "log\n",
        "⁡\n",
        "Total number of documents\n",
        "1\n",
        "+\n",
        "Number of documents containing the word\n",
        "IDF(word)=log\n",
        "1+Number of documents containing the word\n",
        "Total number of documents\n",
        "\t​\n",
        "\n",
        "\n",
        "Common words like “the”, “is” → Low IDF\n",
        "\n",
        "Rare words like “amazing”, “terrible” → High IDF"
      ],
      "metadata": {
        "id": "_ufYHqUO8d3T"
      }
    },
    {
      "cell_type": "code",
      "source": [],
      "metadata": {
        "id": "t5JEGbCn8fP7"
      },
      "execution_count": null,
      "outputs": []
    },
    {
      "cell_type": "markdown",
      "source": [
        "c) TF-IDF\n",
        "\n",
        "Multiply the two together:\n",
        "\n",
        "𝑇\n",
        "𝐹\n",
        "-\n",
        "𝐼\n",
        "𝐷\n",
        "𝐹\n",
        "(\n",
        "𝑤\n",
        "𝑜\n",
        "𝑟\n",
        "𝑑\n",
        ")\n",
        "=\n",
        "𝑇\n",
        "𝐹\n",
        "(\n",
        "𝑤\n",
        "𝑜\n",
        "𝑟\n",
        "𝑑\n",
        ")\n",
        "×\n",
        "𝐼\n",
        "𝐷\n",
        "𝐹\n",
        "(\n",
        "𝑤\n",
        "𝑜\n",
        "𝑟\n",
        "𝑑\n",
        ")\n",
        "TF-IDF(word)=TF(word)×IDF(word)\n",
        "\n",
        "High TF-IDF → Important in this document, not common elsewhere\n",
        "\n",
        "Low TF-IDF → Common or not important\n",
        "\n",
        "This is how vectorizers detect important features from text automatically."
      ],
      "metadata": {
        "id": "ycjBCpyP8d5p"
      }
    },
    {
      "cell_type": "markdown",
      "source": [],
      "metadata": {
        "id": "UKM3-UPU8d8C"
      }
    },
    {
      "cell_type": "markdown",
      "source": [
        "Step 1: Collect Data\n",
        "\n",
        "Gather text data along with labels.\n",
        "\n",
        "Example: Tweets with sentiment labels (positive, negative, neutral).\n",
        "\n",
        "Step 2: Clean/Preprocess Text\n",
        "\n",
        "Remove unnecessary stuff like HTML tags, URLs, punctuation, numbers.\n",
        "\n",
        "Lowercase all words.\n",
        "\n",
        "Remove stopwords like “the”, “is”, “and” (optional).\n",
        "\n",
        "Sometimes do stemming or lemmatization (reduce words to their root).\n",
        "\n",
        "Goal: Make text consistent and easier to analyze.\n",
        "\n",
        "Step 3: Convert Text to Numbers (Vectorization)\n",
        "\n",
        "Machines cannot understand words directly.\n",
        "\n",
        "Convert text into numbers using methods like:\n",
        "\n",
        "Bag of Words (counts of words)\n",
        "\n",
        "TF-IDF (importance of words)\n",
        "\n",
        "Word embeddings (dense numeric vectors representing meaning)\n",
        "\n",
        "Goal: Represent each text as a numeric vector that a model can process.\n",
        "\n",
        "Step 4: Split Data\n",
        "\n",
        "Divide your data into:\n",
        "\n",
        "Training set → Used to teach the model.\n",
        "\n",
        "Test set → Used to check how well the model learned.\n",
        "\n",
        "Step 5: Train a Model\n",
        "\n",
        "Feed the training vectors and labels into a machine learning model.\n",
        "\n",
        "Common models: Logistic Regression, Random Forest, SVM, Naive Bayes.\n",
        "\n",
        "Goal: The model learns patterns between text features and labels.\n",
        "\n",
        "Step 6: Make Predictions\n",
        "\n",
        "Use the trained model to predict labels for the test set.\n",
        "\n",
        "Step 7: Evaluate the Model\n",
        "\n",
        "Compare predictions with true labels.\n",
        "\n",
        "Use metrics like:\n",
        "\n",
        "Accuracy → Fraction of correct predictions\n",
        "\n",
        "Precision, Recall, F1-score → How well each class is predicted\n",
        "\n",
        "Step 8: Improve the Model (Optional)\n",
        "\n",
        "Try different models or hyperparameters.\n",
        "\n",
        "Use better text representations (like embeddings or BERT).\n",
        "\n",
        "Remove or add features."
      ],
      "metadata": {
        "id": "gR2D3XHL8d-o"
      }
    },
    {
      "cell_type": "code",
      "source": [],
      "metadata": {
        "id": "x33Pay-u5qKH"
      },
      "execution_count": null,
      "outputs": []
    }
  ]
}