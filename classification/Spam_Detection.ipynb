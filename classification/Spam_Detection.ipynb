{
  "nbformat": 4,
  "nbformat_minor": 0,
  "metadata": {
    "colab": {
      "provenance": [],
      "authorship_tag": "ABX9TyOt9fu/iPTnLfOKUeS0WHFw",
      "include_colab_link": true
    },
    "kernelspec": {
      "name": "python3",
      "display_name": "Python 3"
    },
    "language_info": {
      "name": "python"
    }
  },
  "cells": [
    {
      "cell_type": "markdown",
      "metadata": {
        "id": "view-in-github",
        "colab_type": "text"
      },
      "source": [
        "<a href=\"https://colab.research.google.com/github/purnaa-l/NLP-Projects/blob/main/classification/Spam_Detection.ipynb\" target=\"_parent\"><img src=\"https://colab.research.google.com/assets/colab-badge.svg\" alt=\"Open In Colab\"/></a>"
      ]
    },
    {
      "cell_type": "code",
      "execution_count": 24,
      "metadata": {
        "id": "XUxhIj781omR"
      },
      "outputs": [],
      "source": [
        "import pandas as pd\n",
        "import numpy as np\n",
        "import matplotlib.pyplot as plt\n",
        "import seaborn as sns"
      ]
    },
    {
      "cell_type": "code",
      "source": [
        "import pandas as pd\n",
        "data = pd.read_csv(\"spam.csv\", encoding='latin1', header=None)\n"
      ],
      "metadata": {
        "id": "g99CnP3v10Eu"
      },
      "execution_count": 36,
      "outputs": []
    },
    {
      "cell_type": "code",
      "source": [
        "data.head()\n",
        "import pandas as pd\n",
        "\n",
        "data = pd.read_csv(\"spam.csv\", encoding='latin1')  # use correct encoding\n",
        "print(data.head())\n",
        "print(data.columns)\n"
      ],
      "metadata": {
        "id": "kg1FrW78-n2Y",
        "outputId": "c69abc24-cb55-4c9b-e5bf-921a4736328c",
        "colab": {
          "base_uri": "https://localhost:8080/"
        }
      },
      "execution_count": 41,
      "outputs": [
        {
          "output_type": "stream",
          "name": "stdout",
          "text": [
            "     v1                                                 v2 Unnamed: 2  \\\n",
            "0   ham  Go until jurong point, crazy.. Available only ...        NaN   \n",
            "1   ham                      Ok lar... Joking wif u oni...        NaN   \n",
            "2  spam  Free entry in 2 a wkly comp to win FA Cup fina...        NaN   \n",
            "3   ham  U dun say so early hor... U c already then say...        NaN   \n",
            "4   ham  Nah I don't think he goes to usf, he lives aro...        NaN   \n",
            "\n",
            "  Unnamed: 3 Unnamed: 4  \n",
            "0        NaN        NaN  \n",
            "1        NaN        NaN  \n",
            "2        NaN        NaN  \n",
            "3        NaN        NaN  \n",
            "4        NaN        NaN  \n",
            "Index(['v1', 'v2', 'Unnamed: 2', 'Unnamed: 3', 'Unnamed: 4'], dtype='object')\n"
          ]
        }
      ]
    },
    {
      "cell_type": "code",
      "source": [
        "data = data[['v1', 'v2']]\n",
        "\n",
        "# Map labels: ham -> 1, spam -> -1\n",
        "sentiment_mapping = {'ham': 1, 'spam': -1}\n",
        "data['v1'] = data['v1'].map(sentiment_mapping)"
      ],
      "metadata": {
        "id": "zzgXlg7t10HS"
      },
      "execution_count": 42,
      "outputs": []
    },
    {
      "cell_type": "code",
      "source": [
        "data.shape"
      ],
      "metadata": {
        "colab": {
          "base_uri": "https://localhost:8080/"
        },
        "id": "M9SfhMVE10Jq",
        "outputId": "6f58304b-a8e9-45e7-e58d-f5a52d7da06f"
      },
      "execution_count": 43,
      "outputs": [
        {
          "output_type": "execute_result",
          "data": {
            "text/plain": [
              "(5572, 2)"
            ]
          },
          "metadata": {},
          "execution_count": 43
        }
      ]
    },
    {
      "cell_type": "code",
      "source": [
        "data['v1'].value_counts()\n",
        "data['v1'].value_counts().plot(kind='bar')\n"
      ],
      "metadata": {
        "colab": {
          "base_uri": "https://localhost:8080/",
          "height": 467
        },
        "id": "CYil3Wq_10L-",
        "outputId": "07f4c4c5-9f87-450e-e8c7-3cf63be0b072"
      },
      "execution_count": 45,
      "outputs": [
        {
          "output_type": "execute_result",
          "data": {
            "text/plain": [
              "<Axes: xlabel='v1'>"
            ]
          },
          "metadata": {},
          "execution_count": 45
        },
        {
          "output_type": "display_data",
          "data": {
            "text/plain": [
              "<Figure size 640x480 with 1 Axes>"
            ],
            "image/png": "[encoded data removed]"
          },
          "metadata": {}
        }
      ]
    },
    {
      "cell_type": "code",
      "source": [
        "data['v1'].value_counts().plot(kind='pie')\n"
      ],
      "metadata": {
        "colab": {
          "base_uri": "https://localhost:8080/",
          "height": 423
        },
        "id": "_I0w6Y-F10Ok",
        "outputId": "1b67e854-0cf3-4c10-b521-8810b22bb838"
      },
      "execution_count": 46,
      "outputs": [
        {
          "output_type": "execute_result",
          "data": {
            "text/plain": [
              "<Axes: ylabel='count'>"
            ]
          },
          "metadata": {},
          "execution_count": 46
        },
        {
          "output_type": "display_data",
          "data": {
            "text/plain": [
              "<Figure size 640x480 with 1 Axes>"
            ],
            "image/png": "[encoded data removed]"
          },
          "metadata": {}
        }
      ]
    },
    {
      "cell_type": "code",
      "source": [
        "data['v2'][999]"
      ],
      "metadata": {
        "colab": {
          "base_uri": "https://localhost:8080/",
          "height": 35
        },
        "id": "_iMrzMgP10Q6",
        "outputId": "7943fc2f-fe91-4623-b987-09810c2f426e"
      },
      "execution_count": 47,
      "outputs": [
        {
          "output_type": "execute_result",
          "data": {
            "text/plain": [
              "'Aight will do, thanks again for comin out'"
            ],
            "application/vnd.google.colaboratory.intrinsic+json": {
              "type": "string"
            }
          },
          "metadata": {},
          "execution_count": 47
        }
      ]
    },
    {
      "cell_type": "code",
      "source": [
        "import re\n",
        "import nltk\n",
        "from nltk.stem.porter import PorterStemmer\n",
        "from nltk.corpus import stopwords\n",
        "import nltk\n",
        "\n",
        "# Download stopwords\n",
        "nltk.download('stopwords')\n",
        "\n",
        "from nltk.corpus import stopwords\n",
        "stopwords_set = set(stopwords.words('english'))\n"
      ],
      "metadata": {
        "colab": {
          "base_uri": "https://localhost:8080/"
        },
        "id": "GZ9-yuas10Ti",
        "outputId": "12388d13-5ff6-4ded-c969-b4e0cbb08af8"
      },
      "execution_count": 48,
      "outputs": [
        {
          "output_type": "stream",
          "name": "stderr",
          "text": [
            "[nltk_data] Downloading package stopwords to /root/nltk_data...\n",
            "[nltk_data]   Package stopwords is already up-to-date!\n"
          ]
        }
      ]
    },
    {
      "cell_type": "code",
      "source": [
        "import re\n",
        "from nltk.corpus import stopwords\n",
        "\n",
        "stopwords_set = set(stopwords.words('english'))\n",
        "\n",
        "def preprocessing(text):\n",
        "    # Remove HTML tags\n",
        "    text = re.sub(r'<[^>]+>', '', text)\n",
        "\n",
        "    # Lowercase the text\n",
        "    text = text.lower()\n",
        "\n",
        "    # Remove URLs\n",
        "    text = re.sub(r'http\\S+|www.\\S+', '', text)\n",
        "\n",
        "    # Remove punctuation and numbers\n",
        "    text = re.sub(r'[^a-z\\s]', '', text)\n",
        "\n",
        "    # Remove extra whitespace\n",
        "    text = re.sub(r'\\s+', ' ', text).strip()\n",
        "\n",
        "    # Remove stopwords\n",
        "    text = ' '.join(word for word in text.split() if word not in stopwords_set)\n",
        "\n",
        "    return text\n",
        "\n",
        "# Example\n",
        "sample_text = \"<p>This is an example tweet! Check out http://example.com</p>\"\n",
        "print(preprocessing(sample_text))\n"
      ],
      "metadata": {
        "colab": {
          "base_uri": "https://localhost:8080/"
        },
        "id": "WJEdGICw10V6",
        "outputId": "70b01004-1376-4be8-d7af-68f29fe1cc46"
      },
      "execution_count": 49,
      "outputs": [
        {
          "output_type": "stream",
          "name": "stdout",
          "text": [
            "example tweet check\n"
          ]
        }
      ]
    },
    {
      "cell_type": "code",
      "source": [
        "data['v2'] = data['v2'].apply(lambda x: preprocessing(x) if isinstance(x, str) else '')\n"
      ],
      "metadata": {
        "id": "_-irA0Xy10Ye"
      },
      "execution_count": 51,
      "outputs": []
    },
    {
      "cell_type": "code",
      "source": [
        "data['v2']"
      ],
      "metadata": {
        "colab": {
          "base_uri": "https://localhost:8080/",
          "height": 458
        },
        "id": "-lt-Fe654pbY",
        "outputId": "4212c169-5d39-4021-a782-8710c2f28c08"
      },
      "execution_count": 53,
      "outputs": [
        {
          "output_type": "execute_result",
          "data": {
            "text/plain": [
              "0       go jurong point crazy available bugis n great ...\n",
              "1                                 ok lar joking wif u oni\n",
              "2       free entry wkly comp win fa cup final tkts st ...\n",
              "3                     u dun say early hor u c already say\n",
              "4             nah dont think goes usf lives around though\n",
              "                              ...                        \n",
              "5567    nd time tried contact u u pound prize claim ea...\n",
              "5568                            b going esplanade fr home\n",
              "5569                          pity mood soany suggestions\n",
              "5570    guy bitching acted like id interested buying s...\n",
              "5571                                       rofl true name\n",
              "Name: v2, Length: 5572, dtype: object"
            ],
            "text/html": [
              "<div>\n",
              "<style scoped>\n",
              "    .dataframe tbody tr th:only-of-type {\n",
              "        vertical-align: middle;\n",
              "    }\n",
              "\n",
              "    .dataframe tbody tr th {\n",
              "        vertical-align: top;\n",
              "    }\n",
              "\n",
              "    .dataframe thead th {\n",
              "        text-align: right;\n",
              "    }\n",
              "</style>\n",
              "<table border=\"1\" class=\"dataframe\">\n",
              "  <thead>\n",
              "    <tr style=\"text-align: right;\">\n",
              "      <th></th>\n",
              "      <th>v2</th>\n",
              "    </tr>\n",
              "  </thead>\n",
              "  <tbody>\n",
              "    <tr>\n",
              "      <th>0</th>\n",
              "      <td>go jurong point crazy available bugis n great ...</td>\n",
              "    </tr>\n",
              "    <tr>\n",
              "      <th>1</th>\n",
              "      <td>ok lar joking wif u oni</td>\n",
              "    </tr>\n",
              "    <tr>\n",
              "      <th>2</th>\n",
              "      <td>free entry wkly comp win fa cup final tkts st ...</td>\n",
              "    </tr>\n",
              "    <tr>\n",
              "      <th>3</th>\n",
              "      <td>u dun say early hor u c already say</td>\n",
              "    </tr>\n",
              "    <tr>\n",
              "      <th>4</th>\n",
              "      <td>nah dont think goes usf lives around though</td>\n",
              "    </tr>\n",
              "    <tr>\n",
              "      <th>...</th>\n",
              "      <td>...</td>\n",
              "    </tr>\n",
              "    <tr>\n",
              "      <th>5567</th>\n",
              "      <td>nd time tried contact u u pound prize claim ea...</td>\n",
              "    </tr>\n",
              "    <tr>\n",
              "      <th>5568</th>\n",
              "      <td>b going esplanade fr home</td>\n",
              "    </tr>\n",
              "    <tr>\n",
              "      <th>5569</th>\n",
              "      <td>pity mood soany suggestions</td>\n",
              "    </tr>\n",
              "    <tr>\n",
              "      <th>5570</th>\n",
              "      <td>guy bitching acted like id interested buying s...</td>\n",
              "    </tr>\n",
              "    <tr>\n",
              "      <th>5571</th>\n",
              "      <td>rofl true name</td>\n",
              "    </tr>\n",
              "  </tbody>\n",
              "</table>\n",
              "<p>5572 rows × 1 columns</p>\n",
              "</div><br><label><b>dtype:</b> object</label>"
            ]
          },
          "metadata": {},
          "execution_count": 53
        }
      ]
    },
    {
      "cell_type": "code",
      "source": [
        "positive=data[data['v1']==1]\n",
        "positive=positive['v2']\n",
        "negative=data[data['v1']==-1]\n",
        "negative=negative['v2']\n",
        "from collections import Counter\n",
        "\n",
        "pwords=' '.join(positive).split()\n",
        "pcount=Counter(pwords)\n",
        "pwords_common=pcount.most_common(10)\n",
        "print(pwords_common)\n"
      ],
      "metadata": {
        "colab": {
          "base_uri": "https://localhost:8080/"
        },
        "id": "hfdmfAtR4pd-",
        "outputId": "be360da7-98ee-4b7e-92a4-1716da3d60df"
      },
      "execution_count": 55,
      "outputs": [
        {
          "output_type": "stream",
          "name": "stdout",
          "text": [
            "[('u', 988), ('im', 461), ('get', 307), ('ltgt', 276), ('ok', 272), ('dont', 268), ('go', 249), ('ur', 240), ('ill', 240), ('got', 232)]\n"
          ]
        }
      ]
    },
    {
      "cell_type": "code",
      "source": [
        "nwords=' '.join(negative).split()\n",
        "ncount=Counter(nwords)\n",
        "nwords_common=ncount.most_common(10)\n",
        "print(nwords_common)\n"
      ],
      "metadata": {
        "colab": {
          "base_uri": "https://localhost:8080/"
        },
        "id": "f_rrUzb74pgW",
        "outputId": "4baecdb7-9945-4ac1-83f9-d3d66de14bf3"
      },
      "execution_count": 58,
      "outputs": [
        {
          "output_type": "stream",
          "name": "stdout",
          "text": [
            "[('call', 350), ('free', 219), ('u', 155), ('txt', 151), ('ur', 144), ('mobile', 124), ('text', 121), ('stop', 116), ('claim', 113), ('reply', 101)]\n"
          ]
        }
      ]
    },
    {
      "cell_type": "code",
      "source": [],
      "metadata": {
        "id": "6jAmgXSt4pi6"
      },
      "execution_count": 58,
      "outputs": []
    },
    {
      "cell_type": "code",
      "source": [
        "from sklearn.model_selection import train_test_split\n",
        "\n",
        "X = data['v2']        # Features (cleaned text)\n",
        "y = data['v1']   # Labels (encoded sentiment)\n",
        "\n",
        "# Split into 80% train, 20% test\n",
        "X_train, X_test, y_train, y_test = train_test_split(\n",
        "    X, y, test_size=0.2, random_state=42, stratify=y\n",
        ")\n"
      ],
      "metadata": {
        "id": "lTqxVf8-4plh"
      },
      "execution_count": 60,
      "outputs": []
    },
    {
      "cell_type": "code",
      "source": [
        "from sklearn.feature_extraction.text import TfidfVectorizer\n",
        "\n",
        "# TF-IDF vectorizer\n",
        "vectorizer = TfidfVectorizer(max_features=5000, ngram_range=(1,2))\n",
        "X_train_vec = vectorizer.fit_transform(X_train)\n",
        "X_test_vec = vectorizer.transform(X_test)\n"
      ],
      "metadata": {
        "id": "sI_dLnIR5p-M"
      },
      "execution_count": 61,
      "outputs": []
    },
    {
      "cell_type": "code",
      "source": [
        "import pandas as pd\n",
        "from sklearn.model_selection import train_test_split\n",
        "from sklearn.feature_extraction.text import TfidfVectorizer\n",
        "from sklearn.metrics import accuracy_score, classification_report\n",
        "from sklearn.linear_model import LogisticRegression\n",
        "from sklearn.ensemble import RandomForestClassifier, GradientBoostingClassifier\n",
        "from sklearn.svm import SVC\n",
        "from sklearn.naive_bayes import MultinomialNB\n",
        "\n",
        "# Assume data is already preprocessed with 'text' and 'sentiment'\n",
        "X = data['v2']\n",
        "y = data['v1']\n",
        "\n",
        "# Train/test split\n",
        "X_train, X_test, y_train, y_test = train_test_split(\n",
        "    X, y, test_size=0.2, random_state=42, stratify=y\n",
        ")\n",
        "\n",
        "# Vectorization\n",
        "vectorizer = TfidfVectorizer(max_features=5000, ngram_range=(1,2))\n",
        "X_train_vec = vectorizer.fit_transform(X_train)\n",
        "X_test_vec = vectorizer.transform(X_test)\n",
        "\n",
        "# List of models\n",
        "models = {\n",
        "    \"Logistic Regression\": LogisticRegression(max_iter=500),\n",
        "    \"Random Forest\": RandomForestClassifier(n_estimators=100, random_state=42),\n",
        "    \"Gradient Boosting\": GradientBoostingClassifier(n_estimators=100, random_state=42),\n",
        "    \"SVM\": SVC(),\n",
        "    \"Naive Bayes\": MultinomialNB()\n",
        "}\n",
        "\n",
        "# Train each model and print accuracy & classification report\n",
        "for name, model in models.items():\n",
        "    model.fit(X_train_vec, y_train)\n",
        "    y_pred = model.predict(X_test_vec)\n",
        "    print(f\"--- {name} ---\")\n",
        "    print(\"Accuracy:\", accuracy_score(y_test, y_pred))\n",
        "    print(classification_report(y_test, y_pred))\n",
        "    print(\"\\n\")\n"
      ],
      "metadata": {
        "colab": {
          "base_uri": "https://localhost:8080/"
        },
        "id": "7y8K-Kuh5qAt",
        "outputId": "07a98e9e-470c-43c1-f9d8-dfae86d1fe5f"
      },
      "execution_count": 63,
      "outputs": [
        {
          "output_type": "stream",
          "name": "stdout",
          "text": [
            "--- Logistic Regression ---\n",
            "Accuracy: 0.9632286995515695\n",
            "              precision    recall  f1-score   support\n",
            "\n",
            "          -1       0.97      0.75      0.85       149\n",
            "           1       0.96      1.00      0.98       966\n",
            "\n",
            "    accuracy                           0.96      1115\n",
            "   macro avg       0.96      0.87      0.91      1115\n",
            "weighted avg       0.96      0.96      0.96      1115\n",
            "\n",
            "\n",
            "\n",
            "--- Random Forest ---\n",
            "Accuracy: 0.9704035874439462\n",
            "              precision    recall  f1-score   support\n",
            "\n",
            "          -1       1.00      0.78      0.88       149\n",
            "           1       0.97      1.00      0.98       966\n",
            "\n",
            "    accuracy                           0.97      1115\n",
            "   macro avg       0.98      0.89      0.93      1115\n",
            "weighted avg       0.97      0.97      0.97      1115\n",
            "\n",
            "\n",
            "\n",
            "--- Gradient Boosting ---\n",
            "Accuracy: 0.9560538116591928\n",
            "              precision    recall  f1-score   support\n",
            "\n",
            "          -1       0.95      0.70      0.81       149\n",
            "           1       0.96      0.99      0.98       966\n",
            "\n",
            "    accuracy                           0.96      1115\n",
            "   macro avg       0.96      0.85      0.89      1115\n",
            "weighted avg       0.96      0.96      0.95      1115\n",
            "\n",
            "\n",
            "\n",
            "--- SVM ---\n",
            "Accuracy: 0.9721973094170404\n",
            "              precision    recall  f1-score   support\n",
            "\n",
            "          -1       1.00      0.79      0.88       149\n",
            "           1       0.97      1.00      0.98       966\n",
            "\n",
            "    accuracy                           0.97      1115\n",
            "   macro avg       0.98      0.90      0.93      1115\n",
            "weighted avg       0.97      0.97      0.97      1115\n",
            "\n",
            "\n",
            "\n",
            "--- Naive Bayes ---\n",
            "Accuracy: 0.9659192825112107\n",
            "              precision    recall  f1-score   support\n",
            "\n",
            "          -1       0.99      0.75      0.85       149\n",
            "           1       0.96      1.00      0.98       966\n",
            "\n",
            "    accuracy                           0.97      1115\n",
            "   macro avg       0.98      0.88      0.92      1115\n",
            "weighted avg       0.97      0.97      0.96      1115\n",
            "\n",
            "\n",
            "\n"
          ]
        }
      ]
    },
    {
      "cell_type": "markdown",
      "source": [
        "Why vectorisation?\n",
        "\n",
        "\n",
        "Machines don’t understand text as we do. They only understand numbers. So we need to convert text into numerical representations that models can work with. This process is called\n",
        "vectorization."
      ],
      "metadata": {
        "id": "-K_GBSzq8d0i"
      }
    },
    {
      "cell_type": "markdown",
      "source": [
        "1️⃣ How TF-IDF is calculated/detected\n",
        "\n",
        "TF-IDF stands for Term Frequency – Inverse Document Frequency. It measures how important a word is in a document relative to the whole corpus.\n",
        "\n",
        "It has two parts:\n",
        "\n",
        "a) Term Frequency (TF)\n",
        "\n",
        "How often a word appears in a document:\n",
        "\n",
        "𝑇\n",
        "𝐹\n",
        "(\n",
        "𝑤\n",
        "𝑜\n",
        "𝑟\n",
        "𝑑\n",
        ")\n",
        "=\n",
        "Number of times the word appears in document\n",
        "Total words in the document\n",
        "TF(word)=\n",
        "Total words in the document\n",
        "Number of times the word appears in document\n",
        "\t​\n",
        "\n",
        "\n",
        "Example:\n",
        "Document: \"I love love this movie\"\n",
        "\n",
        "Total words = 4\n",
        "\n",
        "TF(\"love\") = 2 / 4 = 0.5\n",
        "\n",
        "TF(\"movie\") = 1 / 4 = 0.25\n",
        "\n",
        "b) Inverse Document Frequency (IDF)\n",
        "\n",
        "How unique the word is across all documents:\n",
        "\n",
        "𝐼\n",
        "𝐷\n",
        "𝐹\n",
        "(\n",
        "𝑤\n",
        "𝑜\n",
        "𝑟\n",
        "𝑑\n",
        ")\n",
        "=\n",
        "log\n",
        "⁡\n",
        "Total number of documents\n",
        "1\n",
        "+\n",
        "Number of documents containing the word\n",
        "IDF(word)=log\n",
        "1+Number of documents containing the word\n",
        "Total number of documents\n",
        "\t​\n",
        "\n",
        "\n",
        "Common words like “the”, “is” → Low IDF\n",
        "\n",
        "Rare words like “amazing”, “terrible” → High IDF"
      ],
      "metadata": {
        "id": "_ufYHqUO8d3T"
      }
    },
    {
      "cell_type": "code",
      "source": [],
      "metadata": {
        "id": "t5JEGbCn8fP7"
      },
      "execution_count": null,
      "outputs": []
    },
    {
      "cell_type": "markdown",
      "source": [
        "c) TF-IDF\n",
        "\n",
        "Multiply the two together:\n",
        "\n",
        "𝑇\n",
        "𝐹\n",
        "-\n",
        "𝐼\n",
        "𝐷\n",
        "𝐹\n",
        "(\n",
        "𝑤\n",
        "𝑜\n",
        "𝑟\n",
        "𝑑\n",
        ")\n",
        "=\n",
        "𝑇\n",
        "𝐹\n",
        "(\n",
        "𝑤\n",
        "𝑜\n",
        "𝑟\n",
        "𝑑\n",
        ")\n",
        "×\n",
        "𝐼\n",
        "𝐷\n",
        "𝐹\n",
        "(\n",
        "𝑤\n",
        "𝑜\n",
        "𝑟\n",
        "𝑑\n",
        ")\n",
        "TF-IDF(word)=TF(word)×IDF(word)\n",
        "\n",
        "High TF-IDF → Important in this document, not common elsewhere\n",
        "\n",
        "Low TF-IDF → Common or not important\n",
        "\n",
        "This is how vectorizers detect important features from text automatically."
      ],
      "metadata": {
        "id": "ycjBCpyP8d5p"
      }
    },
    {
      "cell_type": "markdown",
      "source": [],
      "metadata": {
        "id": "UKM3-UPU8d8C"
      }
    },
    {
      "cell_type": "markdown",
      "source": [
        "Step 1: Collect Data\n",
        "\n",
        "Gather text data along with labels.\n",
        "\n",
        "Example: Tweets with sentiment labels (positive, negative, neutral).\n",
        "\n",
        "Step 2: Clean/Preprocess Text\n",
        "\n",
        "Remove unnecessary stuff like HTML tags, URLs, punctuation, numbers.\n",
        "\n",
        "Lowercase all words.\n",
        "\n",
        "Remove stopwords like “the”, “is”, “and” (optional).\n",
        "\n",
        "Sometimes do stemming or lemmatization (reduce words to their root).\n",
        "\n",
        "Goal: Make text consistent and easier to analyze.\n",
        "\n",
        "Step 3: Convert Text to Numbers (Vectorization)\n",
        "\n",
        "Machines cannot understand words directly.\n",
        "\n",
        "Convert text into numbers using methods like:\n",
        "\n",
        "Bag of Words (counts of words)\n",
        "\n",
        "TF-IDF (importance of words)\n",
        "\n",
        "Word embeddings (dense numeric vectors representing meaning)\n",
        "\n",
        "Goal: Represent each text as a numeric vector that a model can process.\n",
        "\n",
        "Step 4: Split Data\n",
        "\n",
        "Divide your data into:\n",
        "\n",
        "Training set → Used to teach the model.\n",
        "\n",
        "Test set → Used to check how well the model learned.\n",
        "\n",
        "Step 5: Train a Model\n",
        "\n",
        "Feed the training vectors and labels into a machine learning model.\n",
        "\n",
        "Common models: Logistic Regression, Random Forest, SVM, Naive Bayes.\n",
        "\n",
        "Goal: The model learns patterns between text features and labels.\n",
        "\n",
        "Step 6: Make Predictions\n",
        "\n",
        "Use the trained model to predict labels for the test set.\n",
        "\n",
        "Step 7: Evaluate the Model\n",
        "\n",
        "Compare predictions with true labels.\n",
        "\n",
        "Use metrics like:\n",
        "\n",
        "Accuracy → Fraction of correct predictions\n",
        "\n",
        "Precision, Recall, F1-score → How well each class is predicted\n",
        "\n",
        "Step 8: Improve the Model (Optional)\n",
        "\n",
        "Try different models or hyperparameters.\n",
        "\n",
        "Use better text representations (like embeddings or BERT).\n",
        "\n",
        "Remove or add features."
      ],
      "metadata": {
        "id": "gR2D3XHL8d-o"
      }
    },
    {
      "cell_type": "code",
      "source": [],
      "metadata": {
        "id": "x33Pay-u5qKH"
      },
      "execution_count": null,
      "outputs": []
    }
  ]
}